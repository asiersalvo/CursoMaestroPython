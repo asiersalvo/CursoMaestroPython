{
 "cells": [
  {
   "cell_type": "code",
   "execution_count": 15,
   "id": "d16bd01b",
   "metadata": {},
   "outputs": [
    {
     "name": "stdout",
     "output_type": "stream",
     "text": [
      "Introduce un número entero entre 0 y 9 (ambos incluidos):5\n"
     ]
    },
    {
     "data": {
      "text/plain": [
       "[0, 5, 10, 15, 20, 25, 30, 35, 40, 45, 50, 55, 60, 65, 70, 75, 80, 85, 90, 95]"
      ]
     },
     "execution_count": 15,
     "metadata": {},
     "output_type": "execute_result"
    }
   ],
   "source": [
    "numero = int(input(\"Introduce un número entero entre 0 y 9 (ambos incluidos):\"))\n",
    "while True:\n",
    "    if numero >= 0 and numero <= 9:\n",
    "        break\n",
    "    else: numero = int(input(\"Introduce un número entero entre 0 y 9 (ambos incluidos):\"))\n",
    "numero\n",
    "multiplos = []\n",
    "if numero == 0:\n",
    "    multiplos = [0]\n",
    "else:\n",
    "    multiplos = list(range(0,100,numero))\n",
    "multiplos"
   ]
  },
  {
   "cell_type": "code",
   "execution_count": null,
   "id": "344bb6de",
   "metadata": {},
   "outputs": [],
   "source": []
  }
 ],
 "metadata": {
  "kernelspec": {
   "display_name": "Python 3 (ipykernel)",
   "language": "python",
   "name": "python3"
  },
  "language_info": {
   "codemirror_mode": {
    "name": "ipython",
    "version": 3
   },
   "file_extension": ".py",
   "mimetype": "text/x-python",
   "name": "python",
   "nbconvert_exporter": "python",
   "pygments_lexer": "ipython3",
   "version": "3.8.2"
  }
 },
 "nbformat": 4,
 "nbformat_minor": 5
}
