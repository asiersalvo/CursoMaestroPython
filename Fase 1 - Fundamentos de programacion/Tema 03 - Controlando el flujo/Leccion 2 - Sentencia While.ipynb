{
 "cells": [
  {
   "cell_type": "markdown",
   "metadata": {
    "collapsed": true
   },
   "source": [
    "## Documentación: https://docs.hektorprofe.net/python/controlando-el-flujo/iteraciones/"
   ]
  },
  {
   "cell_type": "code",
   "execution_count": null,
   "metadata": {},
   "outputs": [],
   "source": [
    "#Bloque WHILE:\n",
    "#Se basa en repetir un bloque a partir de evaluar una condición lógica, siempre que ésta sea True.\n",
    "#Queda en las manos del programador decidir el momento en que la condición cambie a False para hacer que\n",
    "#el While finalice."
   ]
  },
  {
   "cell_type": "code",
   "execution_count": 1,
   "metadata": {},
   "outputs": [
    {
     "name": "stdout",
     "output_type": "stream",
     "text": [
      "El valor de c es:  1\n",
      "El valor de c es:  2\n",
      "El valor de c es:  3\n",
      "El valor de c es:  4\n",
      "El valor de c es:  5\n",
      "El valor de c es:  6\n"
     ]
    }
   ],
   "source": [
    "c = 0\n",
    "while c <= 5:\n",
    "    c+=1\n",
    "    print(\"El valor de c es: \",c)"
   ]
  },
  {
   "cell_type": "code",
   "execution_count": 3,
   "metadata": {},
   "outputs": [
    {
     "name": "stdout",
     "output_type": "stream",
     "text": [
      "El valor de c es:  1\n",
      "El valor de c es:  2\n",
      "El valor de c es:  3\n",
      "El valor de c es:  4\n",
      "El valor de c es:  5\n",
      "El valor de c es:  6\n",
      "Ha terminado todo.\n"
     ]
    }
   ],
   "source": [
    "#Podemos meter un else al final para meter algo cuando el bucle se ha terminado:\n",
    "c = 0\n",
    "while c <= 5:\n",
    "    c+=1\n",
    "    print(\"El valor de c es: \",c)\n",
    "else: print(\"Ha terminado todo.\")"
   ]
  },
  {
   "cell_type": "code",
   "execution_count": 4,
   "metadata": {},
   "outputs": [
    {
     "name": "stdout",
     "output_type": "stream",
     "text": [
      "El valor de c es:  1\n",
      "El valor de c es:  2\n",
      "El valor de c vale:  2\n"
     ]
    }
   ],
   "source": [
    "#Podemos romper el bucle si por ejemplo metemos otra condicion dentro:\n",
    "c = 0\n",
    "while c <= 5:\n",
    "    c+=1\n",
    "    print(\"El valor de c es: \",c)\n",
    "    if c==2:\n",
    "        print(\"El valor de c vale: \",c)\n",
    "        break\n",
    "else: print(\"Ha terminado todo.\")\n",
    "    \n",
    "#Como lo sacamos antes, no llega ni al else final"
   ]
  },
  {
   "cell_type": "code",
   "execution_count": 7,
   "metadata": {},
   "outputs": [
    {
     "name": "stdout",
     "output_type": "stream",
     "text": [
      "El valor de c es: 1\n",
      "El valor de c es: 2\n",
      "El valor de c vale: 2 pero seguimos.\n",
      "El valor de c es: 3\n",
      "El valor de c es: 4\n",
      "El valor de c es: 5\n",
      "El valor de c es: 6\n",
      "Ha terminado todo.\n"
     ]
    }
   ],
   "source": [
    "#También tenemos otro valor que nos permite hacer un pequeño salto pero sin romper el bucle: continue \n",
    "c = 0\n",
    "while c <= 5:\n",
    "    c+=1\n",
    "    print(\"El valor de c es:\",c)\n",
    "    if c==2:\n",
    "        print(\"El valor de c vale:\",c,\"pero seguimos.\")\n",
    "        continue\n",
    "else: print(\"Ha terminado todo.\")"
   ]
  },
  {
   "cell_type": "code",
   "execution_count": 9,
   "metadata": {},
   "outputs": [
    {
     "name": "stdout",
     "output_type": "stream",
     "text": [
      "Bienvenido al menú interactivo:\n",
      "¿Qué quieres hacer? Elige una opción:\n",
      "    1) Saludar\n",
      "    2) Sumar dos números\n",
      "    3) Salir\n",
      "1\n",
      "Hola, espero que te lo estés pasando bien, un saludo.\n",
      "¿Qué quieres hacer? Elige una opción:\n",
      "    1) Saludar\n",
      "    2) Sumar dos números\n",
      "    3) Salir\n",
      "2\n",
      "Introduce el primer número:3\n",
      "Introduce el segundo número:4\n",
      "El resultado de la suma es: 7.0\n",
      "¿Qué quieres hacer? Elige una opción:\n",
      "    1) Saludar\n",
      "    2) Sumar dos números\n",
      "    3) Salir\n",
      "3\n",
      "Hasta luego, ha sido un placer ayudarte.\n"
     ]
    }
   ],
   "source": [
    "#Ejemplo práctico: creamos un menú interactivo\n",
    "print(\"Bienvenido al menú interactivo:\")\n",
    "while(True):\n",
    "    print(\"\"\"¿Qué quieres hacer? Elige una opción:\n",
    "    1) Saludar\n",
    "    2) Sumar dos números\n",
    "    3) Salir\"\"\")\n",
    "    opcion = input()\n",
    "    if opcion == '1':\n",
    "        print(\"Hola, espero que te lo estés pasando bien, un saludo.\")\n",
    "    elif opcion == '2':\n",
    "        n1 = float(input(\"Introduce el primer número:\"))\n",
    "        n2 = float(input(\"Introduce el segundo número:\"))\n",
    "        print(\"El resultado de la suma es:\",n1+n2)\n",
    "    elif opcion == '3':\n",
    "        print(\"Hasta luego, ha sido un placer ayudarte.\")\n",
    "        break\n",
    "    else: print(\"Comando desconocido, vuelve a intentarlo.\")"
   ]
  },
  {
   "cell_type": "code",
   "execution_count": 11,
   "metadata": {},
   "outputs": [
    {
     "name": "stdout",
     "output_type": "stream",
     "text": [
      "Introduce un número:4\n",
      "El número no es múltiplo de 5, vamos otra vez.\n",
      "Introduce un número:5\n",
      "Bien, el número es múltiplo de 5.\n"
     ]
    }
   ],
   "source": [
    "numero = int(input(\"Introduce un número:\"))\n",
    "while(True):\n",
    "    if numero % 5 == 0:\n",
    "        print(\"Bien, el número es múltiplo de 5.\")\n",
    "        break\n",
    "    else: \n",
    "        print(\"El número no es múltiplo de 5, vamos otra vez.\")\n",
    "        numero = int(input(\"Introduce un número:\"))"
   ]
  },
  {
   "cell_type": "code",
   "execution_count": null,
   "metadata": {},
   "outputs": [],
   "source": []
  }
 ],
 "metadata": {
  "kernelspec": {
   "display_name": "Python 3 (ipykernel)",
   "language": "python",
   "name": "python3"
  },
  "language_info": {
   "codemirror_mode": {
    "name": "ipython",
    "version": 3
   },
   "file_extension": ".py",
   "mimetype": "text/x-python",
   "name": "python",
   "nbconvert_exporter": "python",
   "pygments_lexer": "ipython3",
   "version": "3.9.5"
  }
 },
 "nbformat": 4,
 "nbformat_minor": 1
}
