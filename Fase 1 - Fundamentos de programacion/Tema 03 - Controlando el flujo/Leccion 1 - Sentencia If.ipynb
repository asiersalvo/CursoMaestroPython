{
 "cells": [
  {
   "cell_type": "code",
   "execution_count": null,
   "metadata": {
    "collapsed": true
   },
   "outputs": [],
   "source": [
    "#Hay dos tipos de sentencias de control:\n",
    "# 1. Condicional\n",
    "# 2. Iterativo"
   ]
  },
  {
   "cell_type": "markdown",
   "metadata": {},
   "source": [
    "## Documentación: https://docs.hektorprofe.net/python/controlando-el-flujo/condiciones/"
   ]
  },
  {
   "cell_type": "code",
   "execution_count": null,
   "metadata": {},
   "outputs": [],
   "source": [
    "#Sentencia if:"
   ]
  },
  {
   "cell_type": "code",
   "execution_count": 1,
   "metadata": {},
   "outputs": [
    {
     "name": "stdout",
     "output_type": "stream",
     "text": [
      "Es verdadero el if.\n"
     ]
    }
   ],
   "source": [
    "if True:\n",
    "    print(\"Es verdadero el if.\") #esto será siempre True"
   ]
  },
  {
   "cell_type": "code",
   "execution_count": null,
   "metadata": {},
   "outputs": [],
   "source": [
    "#Lo más importante en Python en este tipo de bloques es, los : para iniciarlo y luego las indentaciones (tabuladores, etc)\n",
    "#que nos permiten definir la altura y lo que está dentro del bloque"
   ]
  },
  {
   "cell_type": "code",
   "execution_count": 2,
   "metadata": {},
   "outputs": [],
   "source": [
    "#Podemos ver como el if si es falso no se ejecuta:\n",
    "if False:\n",
    "    print(\"Dibuja esto.\")"
   ]
  },
  {
   "cell_type": "code",
   "execution_count": 3,
   "metadata": {},
   "outputs": [
    {
     "name": "stdout",
     "output_type": "stream",
     "text": [
      "la variable es igual a 5\n"
     ]
    }
   ],
   "source": [
    "a = 5\n",
    "if a == 2:\n",
    "    print(\"la variable es igual a 2\") #como la condición es falsa no entra aquí y no pinta nada\n",
    "if a == 5:\n",
    "    print(\"la variable es igual a 5\") #como la condición es verdadera sí que entra aquí"
   ]
  },
  {
   "cell_type": "code",
   "execution_count": 5,
   "metadata": {},
   "outputs": [
    {
     "name": "stdout",
     "output_type": "stream",
     "text": [
      "La variable a vale 5\n",
      "Y la variable b vale 10\n"
     ]
    }
   ],
   "source": [
    "#Encadenando if's:\n",
    "a = 5\n",
    "b = 10\n",
    "if a == 5:\n",
    "    print(\"La variable a vale\",a)\n",
    "    if b == 10:\n",
    "        print(\"Y la variable b vale\",b)"
   ]
  },
  {
   "cell_type": "code",
   "execution_count": 6,
   "metadata": {},
   "outputs": [
    {
     "name": "stdout",
     "output_type": "stream",
     "text": [
      "La variable a es 5 y la variable b es 10\n"
     ]
    }
   ],
   "source": [
    "#Podemos unir esto así:\n",
    "if a ==5 and b ==10:\n",
    "    print(\"La variable a es\",a,\"y la variable b es\",b)"
   ]
  },
  {
   "cell_type": "code",
   "execution_count": 7,
   "metadata": {},
   "outputs": [],
   "source": [
    "#Tenemos opción además: ELSE\n",
    "#Se encadena a un If para comprobar el caso contrario (en el que no se cumple la condición):"
   ]
  },
  {
   "cell_type": "code",
   "execution_count": 11,
   "metadata": {},
   "outputs": [
    {
     "name": "stdout",
     "output_type": "stream",
     "text": [
      "9 es un número impar.\n"
     ]
    }
   ],
   "source": [
    "n = 9\n",
    "if n % 2 == 0:\n",
    "    print(n,\"es un número par.\")\n",
    "else:\n",
    "    print(n,\"es un número impar.\")"
   ]
  },
  {
   "cell_type": "code",
   "execution_count": 13,
   "metadata": {},
   "outputs": [
    {
     "name": "stdout",
     "output_type": "stream",
     "text": [
      "Hola amigo.\n"
     ]
    }
   ],
   "source": [
    "#Sentencia elif (else if):\n",
    "#Se encadena a un if u otro elif para comprobar múltiples condiciones, siempre que las anteriores no se ejecuten.\n",
    "comando = \"SALUDAR\"\n",
    "if comando == \"ENTRAR\":\n",
    "    print(\"Bienvenido al sistema.\")\n",
    "elif comando == \"SALUDAR\":\n",
    "    print(\"Hola amigo.\")\n",
    "elif comando == \"SALIR\":\n",
    "    print(\"Saliendo.\")\n",
    "else:\n",
    "    print(\"Este comando no se reconoce.\")"
   ]
  },
  {
   "cell_type": "code",
   "execution_count": 14,
   "metadata": {},
   "outputs": [
    {
     "name": "stdout",
     "output_type": "stream",
     "text": [
      "Introduce una nota: 5.5\n",
      "La nota es un aprobado.\n"
     ]
    }
   ],
   "source": [
    "#Ejercicio notas:\n",
    "nota = float(input(\"Introduce una nota: \"))\n",
    "if nota >= 9:\n",
    "    print(\"La nota es un sobresaliente.\")\n",
    "elif nota >= 7:\n",
    "    print(\"La nota es un notable.\")\n",
    "elif nota >= 6:\n",
    "    print(\"La nota es un bien.\")\n",
    "elif nota >= 5:\n",
    "    print(\"La nota es un aprobado.\")\n",
    "else:\n",
    "    print(\"La nota es un suspenso.\")"
   ]
  },
  {
   "cell_type": "code",
   "execution_count": null,
   "metadata": {},
   "outputs": [],
   "source": [
    "#Si en lo anterior en vez de todo elif ponemos if, veremos como se cumplirán más de una condición porque al irá\n",
    "#entrando en todas las condiciones en vez de salir cuando se cumple una como en elif"
   ]
  },
  {
   "cell_type": "code",
   "execution_count": 15,
   "metadata": {},
   "outputs": [],
   "source": [
    "#Introducción PASS:\n",
    "#Sirve para como instrucción de paso para utilizar en un bloque de código vacío, no finaliza el código.\n",
    "#No tiene ningún efecto pero sirve para crear estructuras pendientes de ser programadas\n",
    "if True:\n",
    "    pass"
   ]
  },
  {
   "cell_type": "code",
   "execution_count": null,
   "metadata": {},
   "outputs": [],
   "source": []
  }
 ],
 "metadata": {
  "kernelspec": {
   "display_name": "Python 3 (ipykernel)",
   "language": "python",
   "name": "python3"
  },
  "language_info": {
   "codemirror_mode": {
    "name": "ipython",
    "version": 3
   },
   "file_extension": ".py",
   "mimetype": "text/x-python",
   "name": "python",
   "nbconvert_exporter": "python",
   "pygments_lexer": "ipython3",
   "version": "3.9.5"
  }
 },
 "nbformat": 4,
 "nbformat_minor": 1
}
