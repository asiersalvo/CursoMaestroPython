{
 "cells": [
  {
   "cell_type": "code",
   "execution_count": 1,
   "metadata": {},
   "outputs": [
    {
     "data": {
      "text/plain": [
       "10"
      ]
     },
     "execution_count": 1,
     "metadata": {},
     "output_type": "execute_result"
    }
   ],
   "source": [
    "#Antes hemos visto como envian info hacía afuera, pero queremos saber como hacen para RECIBIR INFORMACIÓN DENTRO:\n",
    "#Creamos una función que reciba dos números y retorne su resultado:\n",
    "def suma(a,b):\n",
    "    return a + b\n",
    "suma(5,5)"
   ]
  },
  {
   "cell_type": "code",
   "execution_count": null,
   "metadata": {},
   "outputs": [],
   "source": [
    "#Importante definir bien ambas partes de la función:\n",
    "#Definición:\n",
    "def suma(a,b):\n",
    "    return a + b\n",
    "#En la definición a y b son parámetros (de la función)\n",
    "\n",
    "#Llamada:\n",
    "suma(5,5)\n",
    "#durante la llamada, a y b son argumentos"
   ]
  }
 ],
 "metadata": {
  "kernelspec": {
   "display_name": "Python 3 (ipykernel)",
   "language": "python",
   "name": "python3"
  },
  "language_info": {
   "codemirror_mode": {
    "name": "ipython",
    "version": 3
   },
   "file_extension": ".py",
   "mimetype": "text/x-python",
   "name": "python",
   "nbconvert_exporter": "python",
   "pygments_lexer": "ipython3",
   "version": "3.8.2"
  }
 },
 "nbformat": 4,
 "nbformat_minor": 1
}
