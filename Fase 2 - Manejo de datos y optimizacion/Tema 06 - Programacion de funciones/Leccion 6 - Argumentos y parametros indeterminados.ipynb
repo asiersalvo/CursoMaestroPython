{
 "cells": [
  {
   "cell_type": "code",
   "execution_count": 1,
   "metadata": {},
   "outputs": [
    {
     "name": "stdout",
     "output_type": "stream",
     "text": [
      "10\n"
     ]
    }
   ],
   "source": [
    "#Pasamos una colección de argumentos 'args':\n",
    "def funcion_valores(*args):\n",
    "    total = 0\n",
    "    for i in args:\n",
    "        total = total + i\n",
    "    print(total)\n",
    "funcion_valores(1,2,3,4)"
   ]
  },
  {
   "cell_type": "code",
   "execution_count": 7,
   "metadata": {},
   "outputs": [
    {
     "name": "stdout",
     "output_type": "stream",
     "text": [
      "n  -->  5\n",
      "c  -->  Hola\n",
      "l  -->  [1, 2, 3, 4, 5]\n"
     ]
    }
   ],
   "source": [
    "#Pasamos una colección de keyword arguments 'kwargs':\n",
    "def funcion_dic(**kwargs):\n",
    "    for i in kwargs:\n",
    "        print(i,\" --> \",kwargs[i])\n",
    "        \n",
    "funcion_dic(n=5, c=\"Hola\", l=[1,2,3,4,5])"
   ]
  },
  {
   "cell_type": "code",
   "execution_count": 14,
   "metadata": {},
   "outputs": [
    {
     "name": "stdout",
     "output_type": "stream",
     "text": [
      "Suma total: 36\n",
      "l  ->  [1, 2, 3]\n",
      "k  ->  [2, 3, 4, 5]\n"
     ]
    }
   ],
   "source": [
    "#Aquí hacemos una función mixta con ambas cosas y las usamos las dos tipos:\n",
    "def funcion_doble(*args,**kwargs):\n",
    "    total = 0\n",
    "    for i in args:\n",
    "        total = total + i\n",
    "    print(\"Suma total:\",total)\n",
    "    for y in kwargs:\n",
    "        print(y,\" -> \",kwargs[y])\n",
    "funcion_doble(10,5,6,7,8,l=[1,2,3],k=[2,3,4,5])"
   ]
  },
  {
   "cell_type": "code",
   "execution_count": null,
   "metadata": {},
   "outputs": [],
   "source": []
  }
 ],
 "metadata": {
  "kernelspec": {
   "display_name": "Python 3 (ipykernel)",
   "language": "python",
   "name": "python3"
  },
  "language_info": {
   "codemirror_mode": {
    "name": "ipython",
    "version": 3
   },
   "file_extension": ".py",
   "mimetype": "text/x-python",
   "name": "python",
   "nbconvert_exporter": "python",
   "pygments_lexer": "ipython3",
   "version": "3.8.2"
  }
 },
 "nbformat": 4,
 "nbformat_minor": 1
}
