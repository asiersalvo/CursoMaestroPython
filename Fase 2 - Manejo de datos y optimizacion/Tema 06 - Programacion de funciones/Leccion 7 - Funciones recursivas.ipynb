{
 "cells": [
  {
   "cell_type": "markdown",
   "metadata": {},
   "source": [
    "[https://docs.hektorprofe.net/python/programacion-de-funciones/funciones-recursivas/](https://docs.hektorprofe.net/python/programacion-de-funciones/funciones-recursivas/)\n",
    "\n",
    "Se trata de funciones que se llaman a sí mismas durante su propia \n",
    "ejecución. Funcionan de forma similar a las iteraciones, pero debemos \n",
    "encargarnos de planificar el momento en que dejan de llamarse a sí \n",
    "mismas o tendremos una función rescursiva infinita.\n",
    "\n",
    "Suele utilizarse para dividir una tarea en subtareas más simples de forma que sea más fácil abordar el problema y solucionarlo."
   ]
  },
  {
   "cell_type": "code",
   "execution_count": 1,
   "metadata": {},
   "outputs": [
    {
     "name": "stdout",
     "output_type": "stream",
     "text": [
      "4\n",
      "3\n",
      "2\n",
      "1\n",
      "Boooooom!\n"
     ]
    }
   ],
   "source": [
    "#Se podrían dividir en si estas funciones recursivas tienen o no retorno:\n",
    "#Sin retorno, una que haga una cuenta atras:\n",
    "def cuenta_atras(num):\n",
    "    num -= 1\n",
    "    if num > 0:\n",
    "        print(num)\n",
    "        cuenta_atras(num)\n",
    "    else: print(\"Boooooom!\")\n",
    "\n",
    "cuenta_atras(5)"
   ]
  },
  {
   "cell_type": "code",
   "execution_count": 2,
   "metadata": {},
   "outputs": [
    {
     "name": "stdout",
     "output_type": "stream",
     "text": [
      "4\n",
      "3\n",
      "2\n",
      "1\n",
      "Boooooom!\n",
      "Fin de la función 0\n",
      "Fin de la función 1\n",
      "Fin de la función 2\n",
      "Fin de la función 3\n",
      "Fin de la función 4\n"
     ]
    }
   ],
   "source": [
    "#IMPORTANTE tener en cuenta que una función recursiva se tiene que dejar de llamar a si misma en algún momento sino\n",
    "#entramos en un bucle infinito\n",
    "#Para entender mejor el funcionamiento, vamos a hacer lo siguiente:\n",
    "def cuenta_atras(num):\n",
    "    num -= 1\n",
    "    if num > 0:\n",
    "        print(num)\n",
    "        cuenta_atras(num)\n",
    "    else: print(\"Boooooom!\")\n",
    "    print(\"Fin de la función\",num)\n",
    "\n",
    "cuenta_atras(5)\n",
    "\n",
    "#Es una especie de Inception que vamos entrando en capas inferiores y luego vamos volviendo de las mismas."
   ]
  }
 ],
 "metadata": {
  "kernelspec": {
   "display_name": "Python 3 (ipykernel)",
   "language": "python",
   "name": "python3"
  },
  "language_info": {
   "codemirror_mode": {
    "name": "ipython",
    "version": 3
   },
   "file_extension": ".py",
   "mimetype": "text/x-python",
   "name": "python",
   "nbconvert_exporter": "python",
   "pygments_lexer": "ipython3",
   "version": "3.8.2"
  }
 },
 "nbformat": 4,
 "nbformat_minor": 1
}
