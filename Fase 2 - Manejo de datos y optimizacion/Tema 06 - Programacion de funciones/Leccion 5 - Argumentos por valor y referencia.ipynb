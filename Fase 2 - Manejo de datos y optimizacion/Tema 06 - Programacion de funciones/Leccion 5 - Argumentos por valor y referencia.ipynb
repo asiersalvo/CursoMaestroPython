{
 "cells": [
  {
   "cell_type": "code",
   "execution_count": null,
   "metadata": {},
   "outputs": [],
   "source": [
    "#Cuando enviamos normalmente un parámetro a una función se envia por valor (en la función\n",
    "#entra una copia del valor asignado a la variable), menos el tipo de dato como:\n",
    "#Colecciones, listas, diccionarios, etc que se envian por referencia, significa:\n",
    "#Que en la función entra el valor original y no una copia, y si lo cambiamos, estos cambios se ven modificados en el \n",
    "#exterior"
   ]
  },
  {
   "cell_type": "markdown",
   "metadata": {},
   "source": [
    "Dependiendo del tipo de dato que enviemos a la función, podemos diferenciar dos comportamientos:\n",
    "\n",
    "- **Paso por valor**: Se crea una copia local de la variable dentro de la función.\n",
    "- **Paso por referencia**: Se maneja directamente la variable, los cambios realizados dentro de la función le afectarán también fuera.\n",
    "\n",
    "Tradicionalmente:\n",
    "\n",
    "- **Los tipos simples se pasan por valor**: Enteros, flotantes, cadenas, lógicos...\n",
    "- **Los tipos compuestos se pasan por referencia**: Listas, diccionarios, conjuntos..."
   ]
  },
  {
   "cell_type": "code",
   "execution_count": 2,
   "metadata": {},
   "outputs": [
    {
     "data": {
      "text/plain": [
       "10"
      ]
     },
     "execution_count": 2,
     "metadata": {},
     "output_type": "execute_result"
    }
   ],
   "source": [
    "#Paso por valor:\n",
    "def doblar_valor(numero):\n",
    "    numero *= 2\n",
    "n = 10\n",
    "doblar_valor(n)\n",
    "n\n",
    "#Aquí n no pasa a ser 20 porque el valor entra y se modifica en doblar_valor pero no modificamos n"
   ]
  },
  {
   "cell_type": "code",
   "execution_count": 4,
   "metadata": {},
   "outputs": [
    {
     "data": {
      "text/plain": [
       "[1, 2, 3, 1, 2, 3]"
      ]
     },
     "execution_count": 4,
     "metadata": {},
     "output_type": "execute_result"
    }
   ],
   "source": [
    "#Paso por referencia:\n",
    "def doblar_valores(numeros):\n",
    "    numeros*=2\n",
    "n = [1,2,3]\n",
    "doblar_valores(n)\n",
    "n\n",
    "#Aquí sí que afecta y vemos que n se ha modificado tras el paso de la función."
   ]
  },
  {
   "cell_type": "markdown",
   "metadata": {},
   "source": [
    "### En Python no se puede indicar cómo queremos pasar el dato, si por valor o por referencia, no se puede"
   ]
  },
  {
   "cell_type": "code",
   "execution_count": 5,
   "metadata": {},
   "outputs": [
    {
     "data": {
      "text/plain": [
       "20"
      ]
     },
     "execution_count": 5,
     "metadata": {},
     "output_type": "execute_result"
    }
   ],
   "source": [
    "#Podemos asignar el valor modificado en al función y asignarlo a la variable de 'fuera' para que le afecte ese cambio:\n",
    "def doblar_valor(numero):\n",
    "    return numero*2\n",
    "n = 10\n",
    "n = doblar_valor(n)\n",
    "n"
   ]
  },
  {
   "cell_type": "code",
   "execution_count": null,
   "metadata": {},
   "outputs": [],
   "source": [
    "#El truco es aquí donde reasignamos el valor: n = doblar_valor(n)"
   ]
  },
  {
   "cell_type": "code",
   "execution_count": 6,
   "metadata": {},
   "outputs": [
    {
     "data": {
      "text/plain": [
       "[10, 20, 30]"
      ]
     },
     "execution_count": 6,
     "metadata": {},
     "output_type": "execute_result"
    }
   ],
   "source": [
    "#También en listas, podemos no modificar la original:\n",
    "def doblar_valores(numeros):\n",
    "    for i,n in enumerate(numeros):\n",
    "        numeros[i]*2\n",
    "n = [10,20,30]\n",
    "doblar_valores(n[:])\n",
    "n"
   ]
  },
  {
   "cell_type": "code",
   "execution_count": null,
   "metadata": {},
   "outputs": [],
   "source": [
    "#El truco aquí está en: n[:]"
   ]
  }
 ],
 "metadata": {
  "kernelspec": {
   "display_name": "Python 3 (ipykernel)",
   "language": "python",
   "name": "python3"
  },
  "language_info": {
   "codemirror_mode": {
    "name": "ipython",
    "version": 3
   },
   "file_extension": ".py",
   "mimetype": "text/x-python",
   "name": "python",
   "nbconvert_exporter": "python",
   "pygments_lexer": "ipython3",
   "version": "3.8.2"
  }
 },
 "nbformat": 4,
 "nbformat_minor": 1
}
