{
 "cells": [
  {
   "cell_type": "markdown",
   "metadata": {},
   "source": [
    "## Documentación: https://docs.hektorprofe.net/python/entradas-y-salidas/salida-por-pantalla/"
   ]
  },
  {
   "cell_type": "code",
   "execution_count": 1,
   "metadata": {},
   "outputs": [
    {
     "name": "stdout",
     "output_type": "stream",
     "text": [
      "Mostramos Un texto y el numero 10\n"
     ]
    }
   ],
   "source": [
    "v = \"Un texto\"\n",
    "n = 10\n",
    "print(\"Mostramos\",v,\"y el numero\",n)"
   ]
  },
  {
   "cell_type": "code",
   "execution_count": 2,
   "metadata": {},
   "outputs": [
    {
     "data": {
      "text/plain": [
       "'Mostramos Un texto y el numero 10'"
      ]
     },
     "execution_count": 2,
     "metadata": {},
     "output_type": "execute_result"
    }
   ],
   "source": [
    "#Vamos a implementar el formateo de escritura, es decir, tenemos el texto con los huecos en donde irán las \n",
    "#variables en las cuales se sustituirán los valores que queramos.\n",
    "#usaremos format() para eso\n",
    "c = \"Mostramos {} y el numero {}\".format(v,n)\n",
    "#Esto nos evitará tener que escribir siempre todo, podremos modificar las v y n solo e irá ahí siempre\n",
    "c"
   ]
  },
  {
   "cell_type": "code",
   "execution_count": 3,
   "metadata": {},
   "outputs": [
    {
     "name": "stdout",
     "output_type": "stream",
     "text": [
      "Mostramos 10 y el numero Un texto\n"
     ]
    }
   ],
   "source": [
    "#Podemos pasar lo mismo pero pasando un número para indicar un órden.\n",
    "print(\"Mostramos {1} y el numero {0}\".format(v,n))\n",
    "#así alteramos el orden e irá primero n y luego v"
   ]
  },
  {
   "cell_type": "code",
   "execution_count": 4,
   "metadata": {},
   "outputs": [
    {
     "name": "stdout",
     "output_type": "stream",
     "text": [
      "Mostramos Un texto y el numero 10\n"
     ]
    }
   ],
   "source": [
    "#También podemos enviarlo mediante referenciación:\n",
    "print(\"Mostramos {texto} y el numero {numero}\".format(texto=v,numero=n))\n",
    "#aunque cambiemos el orden en el parentesis, no cambiará el final porque está asignado"
   ]
  },
  {
   "cell_type": "code",
   "execution_count": 5,
   "metadata": {},
   "outputs": [
    {
     "name": "stdout",
     "output_type": "stream",
     "text": [
      "Un textoUn textoUn texto\n"
     ]
    }
   ],
   "source": [
    "print(\"{v}{v}{v}\".format(v=v))"
   ]
  },
  {
   "cell_type": "code",
   "execution_count": 6,
   "metadata": {},
   "outputs": [
    {
     "name": "stdout",
     "output_type": "stream",
     "text": [
      "                       Palabra\n"
     ]
    }
   ],
   "source": [
    "#Formateo avanzado: podemos darle formato a la línea que vamos a imprimir, ejemplo: vamos a poner 30 espacios\n",
    "#en una línea y poner luego la línea\n",
    "print(\"{:>30}\".format(\"Palabra\"))"
   ]
  },
  {
   "cell_type": "code",
   "execution_count": 7,
   "metadata": {},
   "outputs": [
    {
     "name": "stdout",
     "output_type": "stream",
     "text": [
      "Palabra                       \n"
     ]
    }
   ],
   "source": [
    "#Alineado a la izquierda y con 30 caracteres de espacio después del texto:\n",
    "print(\"{:30}\".format(\"Palabra\"))"
   ]
  },
  {
   "cell_type": "code",
   "execution_count": 8,
   "metadata": {},
   "outputs": [
    {
     "name": "stdout",
     "output_type": "stream",
     "text": [
      "           Palabra            \n"
     ]
    }
   ],
   "source": [
    "#Alineado en el centro:\n",
    "print(\"{:^30}\".format(\"Palabra\"))"
   ]
  },
  {
   "cell_type": "code",
   "execution_count": 9,
   "metadata": {},
   "outputs": [
    {
     "name": "stdout",
     "output_type": "stream",
     "text": [
      "Pal\n"
     ]
    }
   ],
   "source": [
    "#Truncamiento a 3 caracteres:\n",
    "print(\"{:.3}\".format(\"Palabra\"))"
   ]
  },
  {
   "cell_type": "code",
   "execution_count": 10,
   "metadata": {},
   "outputs": [
    {
     "name": "stdout",
     "output_type": "stream",
     "text": [
      "             Pal              \n"
     ]
    }
   ],
   "source": [
    "#Alinear + truncar:\n",
    "print(\"{:^30.3}\".format(\"Palabra\"))"
   ]
  },
  {
   "cell_type": "code",
   "execution_count": 12,
   "metadata": {},
   "outputs": [
    {
     "name": "stdout",
     "output_type": "stream",
     "text": [
      "  10\n",
      " 100\n",
      "1000\n"
     ]
    }
   ],
   "source": [
    "#Formateos de números enteros, rellenados con espacios:\n",
    "print(\"{:4d}\".format(10))\n",
    "print(\"{:4d}\".format(100))\n",
    "print(\"{:4d}\".format(1000))"
   ]
  },
  {
   "cell_type": "code",
   "execution_count": 13,
   "metadata": {},
   "outputs": [
    {
     "name": "stdout",
     "output_type": "stream",
     "text": [
      "0010\n",
      "0100\n",
      "1000\n"
     ]
    }
   ],
   "source": [
    "#Formateos de números enteros, rellenados con ceros:\n",
    "print(\"{:04d}\".format(10))\n",
    "print(\"{:04d}\".format(100))\n",
    "print(\"{:04d}\".format(1000))"
   ]
  },
  {
   "cell_type": "code",
   "execution_count": 14,
   "metadata": {},
   "outputs": [
    {
     "name": "stdout",
     "output_type": "stream",
     "text": [
      "3.14\n"
     ]
    }
   ],
   "source": [
    "#También podemos formatear números flotantes:\n",
    "print(\"{:.2f}\".format(3.141615)) #con dos decimales"
   ]
  },
  {
   "cell_type": "code",
   "execution_count": 15,
   "metadata": {},
   "outputs": [
    {
     "name": "stdout",
     "output_type": "stream",
     "text": [
      "3.142\n"
     ]
    }
   ],
   "source": [
    "print(\"{:.3f}\".format(3.141615)) #con tres decimales"
   ]
  },
  {
   "cell_type": "code",
   "execution_count": 16,
   "metadata": {},
   "outputs": [
    {
     "name": "stdout",
     "output_type": "stream",
     "text": [
      "3.142\n",
      "156.345\n"
     ]
    }
   ],
   "source": [
    "print(\"{:.3f}\".format(3.141615))\n",
    "print(\"{:.3f}\".format(156.345))"
   ]
  },
  {
   "cell_type": "code",
   "execution_count": 17,
   "metadata": {},
   "outputs": [
    {
     "name": "stdout",
     "output_type": "stream",
     "text": [
      "  3.142\n",
      "156.345\n"
     ]
    }
   ],
   "source": [
    "print(\"{:7.3f}\".format(3.141615))\n",
    "print(\"{:7.3f}\".format(156.345))"
   ]
  },
  {
   "cell_type": "code",
   "execution_count": null,
   "metadata": {},
   "outputs": [],
   "source": []
  }
 ],
 "metadata": {
  "kernelspec": {
   "display_name": "Python 3 (ipykernel)",
   "language": "python",
   "name": "python3"
  },
  "language_info": {
   "codemirror_mode": {
    "name": "ipython",
    "version": 3
   },
   "file_extension": ".py",
   "mimetype": "text/x-python",
   "name": "python",
   "nbconvert_exporter": "python",
   "pygments_lexer": "ipython3",
   "version": "3.8.2"
  }
 },
 "nbformat": 4,
 "nbformat_minor": 1
}
